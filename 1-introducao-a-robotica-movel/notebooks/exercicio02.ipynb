{
 "cells": [
  {
   "cell_type": "markdown",
   "metadata": {},
   "source": [
    "## Robo Diferencial - Equações de Dinâmica"
   ]
  },
  {
   "cell_type": "markdown",
   "metadata": {},
   "source": [
    "```TODO```"
   ]
  },
  {
   "cell_type": "markdown",
   "metadata": {},
   "source": [
    "![](../images/ex1_robot.png)"
   ]
  },
  {
   "cell_type": "markdown",
   "metadata": {},
   "source": [
    "### Modelo Cinemático"
   ]
  },
  {
   "cell_type": "markdown",
   "metadata": {},
   "source": [
    "$\\begin{bmatrix}\\dot{x} \\\\ \\dot{y} \\\\ \\dot{\\phi}\\end{bmatrix} = \n",
    "\\begin{bmatrix}\\cos(\\phi) & 0 \\\\ \\sin(\\phi) & 0 \\\\ 0 & 1 \\end{bmatrix}\n",
    "\\begin{bmatrix}v \\\\ \\omega \\end{bmatrix}$ \n",
    "\n",
    "ou \n",
    "\n",
    "$\\mathbf{\\dot{q}}= \\mathbf{S}(q)\\mathbf{v}$\n",
    "\n",
    "Restrições de Movimento\n",
    "\n",
    "$\\mathbf{A}(q) = [- \\sin(\\phi) \\quad \\cos(\\phi) \\quad 0]$\n"
   ]
  },
  {
   "cell_type": "markdown",
   "metadata": {},
   "source": [
    "### Começando pela equação de lagrange\n",
    "\n",
    "$\\newcommand{\\parcial}[3]{\\dfrac{\\partial^{#1}#2}{\\partial #3^{#1}}}\n",
    "\\newcommand{\\df}[1]{\\,\\mathrm{d}#1}\n",
    "\\frac{d}{\\df{t}}\\left( \\parcial{}{\\mathcal{L}}{\\dot{q}_k}\\right)\n",
    "-\\parcial{}{\\mathcal{L}}{q_k}\n",
    "+\\tau_{d_k}\n",
    "= f_k - \\sum\\limits^{m}_{j=1}\\lambda_j a_{jk} $"
   ]
  },
  {
   "cell_type": "code",
   "execution_count": 48,
   "metadata": {},
   "outputs": [],
   "source": [
    "## sympy modulo para trabalhar com equações simbólicas\n",
    "from sympy import *\n",
    "import numpy as np"
   ]
  },
  {
   "cell_type": "code",
   "execution_count": 178,
   "metadata": {
    "colab": {},
    "colab_type": "code",
    "id": "G48uApSYq-wj"
   },
   "outputs": [],
   "source": [
    "# variaveis\n",
    "x = Function('x'); y = Function('y'); phi = Function('phi');\n",
    "t,m,J,Lbd,Fx,Fy,N,L,r = symbols('t m J lambda F_x F_y N L r')"
   ]
  },
  {
   "cell_type": "markdown",
   "metadata": {},
   "source": [
    "### Definindo a função $\\mathcal{L}$\n",
    "$\\mathcal{L} = \\mathcal{T} - \\mathcal{V}$"
   ]
  },
  {
   "cell_type": "code",
   "execution_count": 179,
   "metadata": {},
   "outputs": [],
   "source": [
    "L_functional = 1/2*m*(diff(x(t),t)**2+ diff(y(t),t)**2) + 1/2*J*diff(phi(t),t)**2"
   ]
  },
  {
   "cell_type": "code",
   "execution_count": 180,
   "metadata": {},
   "outputs": [
    {
     "data": {
      "text/latex": [
       "$\\displaystyle 0.5 J \\left(\\frac{d}{d t} \\phi{\\left(t \\right)}\\right)^{2} + 0.5 m \\left(\\left(\\frac{d}{d t} x{\\left(t \\right)}\\right)^{2} + \\left(\\frac{d}{d t} y{\\left(t \\right)}\\right)^{2}\\right)$"
      ],
      "text/plain": [
       "0.5*J*Derivative(phi(t), t)**2 + 0.5*m*(Derivative(x(t), t)**2 + Derivative(y(t), t)**2)"
      ]
     },
     "execution_count": 180,
     "metadata": {},
     "output_type": "execute_result"
    }
   ],
   "source": [
    "L_functional"
   ]
  },
  {
   "cell_type": "code",
   "execution_count": 181,
   "metadata": {},
   "outputs": [
    {
     "data": {
      "text/latex": [
       "$\\displaystyle 1.0 m \\frac{d^{2}}{d t^{2}} x{\\left(t \\right)}$"
      ],
      "text/plain": [
       "1.0*m*Derivative(x(t), (t, 2))"
      ]
     },
     "execution_count": 181,
     "metadata": {},
     "output_type": "execute_result"
    }
   ],
   "source": [
    "dq1 = diff( diff(L_functional, diff(x(t),t)) ,t)\n",
    "dq1"
   ]
  },
  {
   "cell_type": "code",
   "execution_count": 182,
   "metadata": {},
   "outputs": [
    {
     "data": {
      "text/latex": [
       "$\\displaystyle 1.0 m \\frac{d^{2}}{d t^{2}} y{\\left(t \\right)}$"
      ],
      "text/plain": [
       "1.0*m*Derivative(y(t), (t, 2))"
      ]
     },
     "execution_count": 182,
     "metadata": {},
     "output_type": "execute_result"
    }
   ],
   "source": [
    "dq2 = diff( diff(L_functional, diff(y(t),t)) ,t)\n",
    "dq2"
   ]
  },
  {
   "cell_type": "code",
   "execution_count": 183,
   "metadata": {},
   "outputs": [
    {
     "data": {
      "text/latex": [
       "$\\displaystyle 1.0 J \\frac{d^{2}}{d t^{2}} \\phi{\\left(t \\right)}$"
      ],
      "text/plain": [
       "1.0*J*Derivative(phi(t), (t, 2))"
      ]
     },
     "execution_count": 183,
     "metadata": {},
     "output_type": "execute_result"
    }
   ],
   "source": [
    "dq3 = diff( diff(L_functional, diff(phi(t),t)) ,t)\n",
    "dq3"
   ]
  },
  {
   "cell_type": "code",
   "execution_count": 184,
   "metadata": {},
   "outputs": [
    {
     "data": {
      "text/latex": [
       "$\\displaystyle 0$"
      ],
      "text/plain": [
       "0"
      ]
     },
     "execution_count": 184,
     "metadata": {},
     "output_type": "execute_result"
    }
   ],
   "source": [
    "q1 = diff(L_functional, x(t))\n",
    "q1"
   ]
  },
  {
   "cell_type": "code",
   "execution_count": 185,
   "metadata": {},
   "outputs": [
    {
     "data": {
      "text/latex": [
       "$\\displaystyle 0$"
      ],
      "text/plain": [
       "0"
      ]
     },
     "execution_count": 185,
     "metadata": {},
     "output_type": "execute_result"
    }
   ],
   "source": [
    "q2 = diff(L_functional, y(t))\n",
    "q2"
   ]
  },
  {
   "cell_type": "code",
   "execution_count": 186,
   "metadata": {},
   "outputs": [
    {
     "data": {
      "text/latex": [
       "$\\displaystyle 0$"
      ],
      "text/plain": [
       "0"
      ]
     },
     "execution_count": 186,
     "metadata": {},
     "output_type": "execute_result"
    }
   ],
   "source": [
    "q3 = diff(L_functional, phi(t))\n",
    "q3"
   ]
  },
  {
   "cell_type": "code",
   "execution_count": 158,
   "metadata": {},
   "outputs": [
    {
     "data": {
      "text/latex": [
       "$\\displaystyle J \\frac{d^{2}}{d t^{2}} \\phi{\\left(t \\right)} = N$"
      ],
      "text/plain": [
       "Eq(J*Derivative(phi(t), (t, 2)), N)"
      ]
     },
     "execution_count": 158,
     "metadata": {},
     "output_type": "execute_result"
    }
   ],
   "source": [
    "## N torque\n",
    "Eq(J*diff(diff(phi(t),t),t),N)"
   ]
  },
  {
   "cell_type": "code",
   "execution_count": 167,
   "metadata": {},
   "outputs": [
    {
     "data": {
      "text/latex": [
       "$\\displaystyle \\left[\\begin{matrix}m & 0 & 0\\\\0 & m & 0\\\\0 & 0 & J\\end{matrix}\\right]$"
      ],
      "text/plain": [
       "Matrix([\n",
       "[m, 0, 0],\n",
       "[0, m, 0],\n",
       "[0, 0, J]])"
      ]
     },
     "execution_count": 167,
     "metadata": {},
     "output_type": "execute_result"
    }
   ],
   "source": [
    "# Matriz \n",
    "M_matrix = Matrix([[m, 0, 0],[0, m , 0],[0, 0, J]])\n",
    "M_matrix"
   ]
  },
  {
   "cell_type": "markdown",
   "metadata": {},
   "source": [
    "### Matriz das Forças generalizadas ( $f_k$)\n",
    "\n",
    "$F = F_r + F_l$\n",
    "\n",
    "$\\tau_r = rF_r$ e $\\tau_l = rF_l$\n",
    "\n",
    "temos\n",
    "\n",
    "$F = \\frac{1}{r}(\\tau_l + \\tau_r)$\n",
    "\n",
    "sendo\n",
    "\n",
    "$F_x = \\frac{1}{r}(\\tau_l + \\tau_r)\\cos(\\phi)$\n",
    "\n",
    "e\n",
    "\n",
    "$F_y = \\frac{1}{r}(\\tau_l + \\tau_r)\\sin(\\phi)$"
   ]
  },
  {
   "cell_type": "code",
   "execution_count": 168,
   "metadata": {},
   "outputs": [
    {
     "data": {
      "text/latex": [
       "$\\displaystyle \\left[\\begin{matrix}- \\sin{\\left(\\phi{\\left(t \\right)} \\right)} & \\cos{\\left(\\phi{\\left(t \\right)} \\right)} & 0\\end{matrix}\\right]$"
      ],
      "text/plain": [
       "Matrix([[-sin(phi(t)), cos(phi(t)), 0]])"
      ]
     },
     "execution_count": 168,
     "metadata": {},
     "output_type": "execute_result"
    }
   ],
   "source": []
  },
  {
   "cell_type": "code",
   "execution_count": 190,
   "metadata": {},
   "outputs": [
    {
     "data": {
      "text/latex": [
       "$\\displaystyle \\left[\\begin{matrix}\\frac{\\cos{\\left(\\phi{\\left(t \\right)} \\right)}}{r} & \\frac{\\cos{\\left(\\phi{\\left(t \\right)} \\right)}}{r}\\\\\\frac{\\cos{\\left(\\phi{\\left(t \\right)} \\right)}}{r} & \\frac{\\cos{\\left(\\phi{\\left(t \\right)} \\right)}}{r}\\\\\\frac{L}{2 r} & - \\frac{L}{2 r}\\end{matrix}\\right]$"
      ],
      "text/plain": [
       "Matrix([\n",
       "[cos(phi(t))/r, cos(phi(t))/r],\n",
       "[cos(phi(t))/r, cos(phi(t))/r],\n",
       "[      L/(2*r),      -L/(2*r)]])"
      ]
     },
     "execution_count": 190,
     "metadata": {},
     "output_type": "execute_result"
    }
   ],
   "source": [
    "E = 1/r*Matrix([[cos(phi(t)),cos(phi(t))], [cos(phi(t)),cos(phi(t))], [L/2, -L/2]])\n",
    "E"
   ]
  },
  {
   "cell_type": "markdown",
   "metadata": {},
   "source": [
    "### Restrições"
   ]
  },
  {
   "cell_type": "code",
   "execution_count": 194,
   "metadata": {},
   "outputs": [
    {
     "data": {
      "text/latex": [
       "$\\displaystyle \\left[\\begin{matrix}m \\frac{d^{2}}{d t^{2}} x{\\left(t \\right)}\\\\m \\frac{d^{2}}{d t^{2}} y{\\left(t \\right)}\\\\J \\frac{d^{2}}{d t^{2}} \\phi{\\left(t \\right)}\\end{matrix}\\right] = \\left[\\begin{matrix}- \\lambda \\sin{\\left(\\phi{\\left(t \\right)} \\right)}\\\\\\lambda \\cos{\\left(\\phi{\\left(t \\right)} \\right)}\\\\0\\end{matrix}\\right]$"
      ],
      "text/plain": [
       "Eq(Matrix([\n",
       "[  m*Derivative(x(t), (t, 2))],\n",
       "[  m*Derivative(y(t), (t, 2))],\n",
       "[J*Derivative(phi(t), (t, 2))]]), Matrix([\n",
       "[-lambda*sin(phi(t))],\n",
       "[ lambda*cos(phi(t))],\n",
       "[                  0]]))"
      ]
     },
     "execution_count": 194,
     "metadata": {},
     "output_type": "execute_result"
    }
   ],
   "source": [
    "Eq(M_matrix*diff(diff(Matrix([[x(t)],[y(t)],[phi(t)]]),t),t),A.T*Lbd)"
   ]
  },
  {
   "cell_type": "code",
   "execution_count": 129,
   "metadata": {},
   "outputs": [
    {
     "data": {
      "text/latex": [
       "$\\displaystyle - J + 2 m - 1 = 0$"
      ],
      "text/plain": [
       "Eq(-J + 2*m - 1, 0)"
      ]
     },
     "execution_count": 129,
     "metadata": {},
     "output_type": "execute_result"
    }
   ],
   "source": []
  },
  {
   "cell_type": "code",
   "execution_count": null,
   "metadata": {},
   "outputs": [],
   "source": []
  }
 ],
 "metadata": {
  "colab": {
   "collapsed_sections": [],
   "name": "exercicio01.ipynb",
   "provenance": []
  },
  "kernelspec": {
   "display_name": "Python 3",
   "language": "python",
   "name": "python3"
  },
  "language_info": {
   "codemirror_mode": {
    "name": "ipython",
    "version": 3
   },
   "file_extension": ".py",
   "mimetype": "text/x-python",
   "name": "python",
   "nbconvert_exporter": "python",
   "pygments_lexer": "ipython3",
   "version": "3.6.9"
  }
 },
 "nbformat": 4,
 "nbformat_minor": 1
}
