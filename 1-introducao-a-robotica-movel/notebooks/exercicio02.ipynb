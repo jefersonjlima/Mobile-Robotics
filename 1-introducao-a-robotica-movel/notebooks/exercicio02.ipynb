{
 "cells": [
  {
   "cell_type": "markdown",
   "metadata": {},
   "source": [
    "## Robo Diferencial - Equações de Dinâmica"
   ]
  },
  {
   "cell_type": "markdown",
   "metadata": {},
   "source": [
    "```TODO```"
   ]
  },
  {
   "cell_type": "markdown",
   "metadata": {},
   "source": [
    "![](../images/ex1_robot.png)"
   ]
  },
  {
   "cell_type": "markdown",
   "metadata": {},
   "source": [
    "### Modelo Cinemático"
   ]
  },
  {
   "cell_type": "markdown",
   "metadata": {},
   "source": [
    "$\\begin{bmatrix}\\dot{x} \\\\ \\dot{y} \\\\ \\dot{\\phi}\\end{bmatrix} = \n",
    "\\begin{bmatrix}\\cos(\\phi) & 0 \\\\ \\sin(\\phi) & 0 \\\\ 0 & 1 \\end{bmatrix}\n",
    "\\begin{bmatrix}v \\\\ \\omega \\end{bmatrix}$ \n",
    "\n",
    "ou \n",
    "\n",
    "$\\mathbf{\\dot{q}}= \\mathbf{S}(q)\\mathbf{v}$\n",
    "\n",
    "Restrições de Movimento\n",
    "\n",
    "$\\mathbf{A}(q) = [- \\sin(\\phi) \\quad \\cos(\\phi) \\quad 0]$\n"
   ]
  },
  {
   "cell_type": "markdown",
   "metadata": {},
   "source": [
    "### Começando pela equação de lagrange\n",
    "\n",
    "$\\newcommand{\\parcial}[3]{\\dfrac{\\partial^{#1}#2}{\\partial #3^{#1}}}\n",
    "\\newcommand{\\df}[1]{\\,\\mathrm{d}#1}\n",
    "\\frac{d}{\\df{t}}\\left( \\parcial{}{\\mathcal{L}}{\\dot{q}_k}\\right)\n",
    "-\\parcial{}{\\mathcal{L}}{q_k}\n",
    "+\\tau_{d_k}\n",
    "= f_k - \\sum\\limits^{m}_{j=1}\\lambda_j a_{jk} $"
   ]
  },
  {
   "cell_type": "code",
   "execution_count": 48,
   "metadata": {},
   "outputs": [],
   "source": [
    "## sympy modulo para trabalhar com equações simbólicas\n",
    "from sympy import *\n",
    "import numpy as np"
   ]
  },
  {
   "cell_type": "code",
   "execution_count": 63,
   "metadata": {
    "colab": {},
    "colab_type": "code",
    "id": "G48uApSYq-wj"
   },
   "outputs": [],
   "source": [
    "# variaveis\n",
    "x = Function('x'); y = Function('y'); phi = Function('phi');\n",
    "t = Symbol('t'); m = Symbol('m'); J = Symbol('J'); Lbd = Symbol('lambda'); Fx = Symbol('F_x'); Fy = Symbol('F_y')"
   ]
  },
  {
   "cell_type": "markdown",
   "metadata": {},
   "source": [
    "### Definindo a função $\\mathcal{L}$\n",
    "$\\mathcal{L} = \\mathcal{T} - \\mathcal{V}$"
   ]
  },
  {
   "cell_type": "code",
   "execution_count": 26,
   "metadata": {},
   "outputs": [],
   "source": [
    "L_functional = 1/2*m*(diff(x(t),t)**2+ diff(y(t),t)**2) + 1/2*J*diff(phi(t),t)**2"
   ]
  },
  {
   "cell_type": "code",
   "execution_count": 27,
   "metadata": {},
   "outputs": [
    {
     "data": {
      "text/latex": [
       "$\\displaystyle 0.5 J \\left(\\frac{d}{d t} \\phi{\\left(t \\right)}\\right)^{2} + 0.5 m \\left(\\left(\\frac{d}{d t} x{\\left(t \\right)}\\right)^{2} + \\left(\\frac{d}{d t} y{\\left(t \\right)}\\right)^{2}\\right)$"
      ],
      "text/plain": [
       "0.5*J*Derivative(phi(t), t)**2 + 0.5*m*(Derivative(x(t), t)**2 + Derivative(y(t), t)**2)"
      ]
     },
     "execution_count": 27,
     "metadata": {},
     "output_type": "execute_result"
    }
   ],
   "source": [
    "L_functional"
   ]
  },
  {
   "cell_type": "code",
   "execution_count": 71,
   "metadata": {},
   "outputs": [
    {
     "data": {
      "text/latex": [
       "$\\displaystyle 1.0 m \\frac{d^{2}}{d t^{2}} x{\\left(t \\right)}$"
      ],
      "text/plain": [
       "1.0*m*Derivative(x(t), (t, 2))"
      ]
     },
     "execution_count": 71,
     "metadata": {},
     "output_type": "execute_result"
    }
   ],
   "source": [
    "q1 = diff( diff(L_functional, diff(x(t),t)) ,t)\n",
    "q1"
   ]
  },
  {
   "cell_type": "code",
   "execution_count": 73,
   "metadata": {},
   "outputs": [
    {
     "data": {
      "text/latex": [
       "$\\displaystyle 1.0 m \\frac{d^{2}}{d t^{2}} y{\\left(t \\right)}$"
      ],
      "text/plain": [
       "1.0*m*Derivative(y(t), (t, 2))"
      ]
     },
     "execution_count": 73,
     "metadata": {},
     "output_type": "execute_result"
    }
   ],
   "source": [
    "q2 = diff( diff(L_functional, diff(y(t),t)) ,t)\n",
    "q2"
   ]
  },
  {
   "cell_type": "code",
   "execution_count": 74,
   "metadata": {},
   "outputs": [
    {
     "data": {
      "text/latex": [
       "$\\displaystyle 1.0 J \\frac{d^{2}}{d t^{2}} \\phi{\\left(t \\right)}$"
      ],
      "text/plain": [
       "1.0*J*Derivative(phi(t), (t, 2))"
      ]
     },
     "execution_count": 74,
     "metadata": {},
     "output_type": "execute_result"
    }
   ],
   "source": [
    "q3 = diff( diff(L_functional, diff(phi(t),t)) ,t)\n",
    "q3"
   ]
  },
  {
   "cell_type": "code",
   "execution_count": 37,
   "metadata": {},
   "outputs": [
    {
     "data": {
      "text/latex": [
       "$\\displaystyle 0$"
      ],
      "text/plain": [
       "0"
      ]
     },
     "execution_count": 37,
     "metadata": {},
     "output_type": "execute_result"
    }
   ],
   "source": [
    "diff(L_functional, x(t))"
   ]
  },
  {
   "cell_type": "code",
   "execution_count": 76,
   "metadata": {},
   "outputs": [
    {
     "data": {
      "text/latex": [
       "$\\displaystyle 0$"
      ],
      "text/plain": [
       "0"
      ]
     },
     "execution_count": 76,
     "metadata": {},
     "output_type": "execute_result"
    }
   ],
   "source": [
    "q4 = diff(L_functional, y(t))\n",
    "q4"
   ]
  },
  {
   "cell_type": "code",
   "execution_count": 77,
   "metadata": {},
   "outputs": [
    {
     "data": {
      "text/latex": [
       "$\\displaystyle 0$"
      ],
      "text/plain": [
       "0"
      ]
     },
     "execution_count": 77,
     "metadata": {},
     "output_type": "execute_result"
    }
   ],
   "source": [
    "q5 = diff(L_functional, phi(t))\n",
    "q5"
   ]
  },
  {
   "cell_type": "code",
   "execution_count": 78,
   "metadata": {},
   "outputs": [
    {
     "data": {
      "text/latex": [
       "$\\displaystyle 1.0 m \\frac{d^{2}}{d t^{2}} x{\\left(t \\right)}$"
      ],
      "text/plain": [
       "1.0*m*Derivative(x(t), (t, 2))"
      ]
     },
     "execution_count": 78,
     "metadata": {},
     "output_type": "execute_result"
    }
   ],
   "source": [
    "q1 + q"
   ]
  },
  {
   "cell_type": "code",
   "execution_count": 69,
   "metadata": {},
   "outputs": [
    {
     "data": {
      "text/latex": [
       "$\\displaystyle - F_{x} + \\lambda \\sin{\\left(\\phi{\\left(t \\right)} \\right)}$"
      ],
      "text/plain": [
       "-F_x + lambda*sin(phi(t))"
      ]
     },
     "execution_count": 69,
     "metadata": {},
     "output_type": "execute_result"
    }
   ],
   "source": [
    "Lbd*sin(phi(t)) - Fx"
   ]
  },
  {
   "cell_type": "code",
   "execution_count": null,
   "metadata": {},
   "outputs": [],
   "source": []
  }
 ],
 "metadata": {
  "colab": {
   "collapsed_sections": [],
   "name": "exercicio01.ipynb",
   "provenance": []
  },
  "kernelspec": {
   "display_name": "Python 3",
   "language": "python",
   "name": "python3"
  },
  "language_info": {
   "codemirror_mode": {
    "name": "ipython",
    "version": 3
   },
   "file_extension": ".py",
   "mimetype": "text/x-python",
   "name": "python",
   "nbconvert_exporter": "python",
   "pygments_lexer": "ipython3",
   "version": "3.6.9"
  }
 },
 "nbformat": 4,
 "nbformat_minor": 1
}
