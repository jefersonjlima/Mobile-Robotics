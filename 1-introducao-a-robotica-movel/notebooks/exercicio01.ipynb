{
  "nbformat": 4,
  "nbformat_minor": 0,
  "metadata": {
    "colab": {
      "name": "exercicio01.ipynb",
      "provenance": [],
      "collapsed_sections": []
    },
    "kernelspec": {
      "name": "python3",
      "display_name": "Python 3"
    }
  },
  "cells": [
    {
      "cell_type": "markdown",
      "metadata": {
        "id": "o4_IAFGZtuDP",
        "colab_type": "text"
      },
      "source": [
        "<a href=\"https://colab.research.google.com/github/googlecolab/colabtools/blob/master/notebooks/colab-github-demo.ipynb\">\n",
        "  <img src=\"https://colab.research.google.com/assets/colab-badge.svg\" alt=\"Open In Colab\"/>\n",
        "</a>"
      ]
    },
    {
      "cell_type": "markdown",
      "metadata": {
        "id": "YQNqK73ktMVQ",
        "colab_type": "text"
      },
      "source": [
        "# Exercício Rotação e Translação"
      ]
    },
    {
      "cell_type": "code",
      "metadata": {
        "id": "zvfuDabKgzO-",
        "colab_type": "code",
        "colab": {}
      },
      "source": [
        "import numpy as np"
      ],
      "execution_count": 0,
      "outputs": []
    },
    {
      "cell_type": "code",
      "metadata": {
        "id": "5FHQnFttg8ZQ",
        "colab_type": "code",
        "colab": {}
      },
      "source": [
        "pi = np.pi"
      ],
      "execution_count": 0,
      "outputs": []
    },
    {
      "cell_type": "code",
      "metadata": {
        "id": "LXqxwE79g8qy",
        "colab_type": "code",
        "colab": {}
      },
      "source": [
        "def R_z(theta):\n",
        "    theta = np.deg2rad(theta)\n",
        "    rotate_matrix = np.array([[np.cos(theta),   np.sin(theta),  0],\n",
        "                            [np.sin(theta),     np.cos(theta),  0],\n",
        "                            [0,                 0,              1]])\n",
        "    return rotate_matrix"
      ],
      "execution_count": 0,
      "outputs": []
    },
    {
      "cell_type": "code",
      "metadata": {
        "id": "C4bjCDj3hsc3",
        "colab_type": "code",
        "colab": {}
      },
      "source": [
        "P_a = np.array([[1],[1],[0]])"
      ],
      "execution_count": 0,
      "outputs": []
    },
    {
      "cell_type": "code",
      "metadata": {
        "id": "WZTtge_po9iX",
        "colab_type": "code",
        "colab": {
          "base_uri": "https://localhost:8080/",
          "height": 71
        },
        "outputId": "b1a4c6a9-5e54-46fd-c32f-84849aef0268"
      },
      "source": [
        "print(P_a)"
      ],
      "execution_count": 81,
      "outputs": [
        {
          "output_type": "stream",
          "text": [
            "[[1]\n",
            " [1]\n",
            " [0]]\n"
          ],
          "name": "stdout"
        }
      ]
    },
    {
      "cell_type": "code",
      "metadata": {
        "id": "2zYJU0Guh9bP",
        "colab_type": "code",
        "colab": {}
      },
      "source": [
        "P_b = np.dot(R_z(np.radians(90)),P_a)"
      ],
      "execution_count": 0,
      "outputs": []
    },
    {
      "cell_type": "code",
      "metadata": {
        "id": "UlGzhnzWiVUl",
        "colab_type": "code",
        "outputId": "8b74dc2b-fd0c-47ed-ed96-100475b852a2",
        "colab": {
          "base_uri": "https://localhost:8080/",
          "height": 71
        }
      },
      "source": [
        "print(P_b)"
      ],
      "execution_count": 83,
      "outputs": [
        {
          "output_type": "stream",
          "text": [
            "[[1.02703635]\n",
            " [1.02703635]\n",
            " [0.        ]]\n"
          ],
          "name": "stdout"
        }
      ]
    },
    {
      "cell_type": "code",
      "metadata": {
        "id": "G48uApSYq-wj",
        "colab_type": "code",
        "colab": {}
      },
      "source": [
        ""
      ],
      "execution_count": 0,
      "outputs": []
    },
    {
      "cell_type": "markdown",
      "metadata": {
        "id": "KZYLi0Ftslle",
        "colab_type": "text"
      },
      "source": [
        "## Translação Rotação\n"
      ]
    },
    {
      "cell_type": "markdown",
      "metadata": {
        "id": "POdnjDRCrKtU",
        "colab_type": "text"
      },
      "source": [
        "${}^B\\mathbf{P} = {}_A^B \\mathbf{R}(\\theta) {}^A\\mathbf{P} = \n",
        "\\begin{bmatrix}\n",
        "\\cos(\\theta) & \\sin(\\theta) & 0 & 0\\\\\n",
        "\\sin(\\theta) & \\cos(\\theta) & 0 & 0\\\\\n",
        "0 & 0 & 1 & 0\\\\ \n",
        "0 & 0 & 0 & 1\\\\\n",
        "\\end{bmatrix}.\n",
        "\\begin{bmatrix}\n",
        "{}^Ap_x\\\\\n",
        "{}^Ap_y\\\\\n",
        "{}^Ap_z\\\\\n",
        "1\n",
        "\\end{bmatrix}$"
      ]
    },
    {
      "cell_type": "code",
      "metadata": {
        "id": "qG6EBgC5jBgJ",
        "colab_type": "code",
        "colab": {}
      },
      "source": [
        "def tf(theta, Q):\n",
        "    theta = np.deg2rad\n",
        "    tf_matrix = np.array([[np.cos(theta),   np.sin(theta),  0,      Q[0]],\n",
        "                          [np.sin(theta),   np.cos(theta),  0,      Q[1]],\n",
        "                          [0,               0,              1,      Q[2]],\n",
        "                          [0,               0,              0,      1]])\n",
        "    return tf_matrix"
      ],
      "execution_count": 0,
      "outputs": []
    },
    {
      "cell_type": "code",
      "metadata": {
        "id": "LkGKG69KlI4b",
        "colab_type": "code",
        "colab": {}
      },
      "source": [
        "P_a = np.vstack((P_a, [1]))"
      ],
      "execution_count": 0,
      "outputs": []
    },
    {
      "cell_type": "code",
      "metadata": {
        "id": "anBk2ql4lfxo",
        "colab_type": "code",
        "colab": {
          "base_uri": "https://localhost:8080/",
          "height": 89
        },
        "outputId": "7231369f-f62b-4b8d-be3d-b12777f1e4f4"
      },
      "source": [
        "print(P_a)"
      ],
      "execution_count": 86,
      "outputs": [
        {
          "output_type": "stream",
          "text": [
            "[[1]\n",
            " [1]\n",
            " [0]\n",
            " [1]]\n"
          ],
          "name": "stdout"
        }
      ]
    },
    {
      "cell_type": "code",
      "metadata": {
        "id": "T2OBn-6Yoyk8",
        "colab_type": "code",
        "colab": {
          "base_uri": "https://localhost:8080/",
          "height": 89
        },
        "outputId": "966e3d06-19a9-45c1-dd0c-109c8c57e4e0"
      },
      "source": [
        "np.dot(tf(0,[1,1,1]), P_a)"
      ],
      "execution_count": 87,
      "outputs": [
        {
          "output_type": "execute_result",
          "data": {
            "text/plain": [
              "array([[2.],\n",
              "       [2.],\n",
              "       [1.],\n",
              "       [1.]])"
            ]
          },
          "metadata": {
            "tags": []
          },
          "execution_count": 87
        }
      ]
    },
    {
      "cell_type": "code",
      "metadata": {
        "id": "2UiRHVdOpZsm",
        "colab_type": "code",
        "colab": {}
      },
      "source": [
        ""
      ],
      "execution_count": 0,
      "outputs": []
    }
  ]
}