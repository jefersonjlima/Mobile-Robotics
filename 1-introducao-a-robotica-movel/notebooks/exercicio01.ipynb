{
  "nbformat": 4,
  "nbformat_minor": 0,
  "metadata": {
    "colab": {
      "name": "exercicio01.ipynb",
      "provenance": [],
      "collapsed_sections": []
    },
    "kernelspec": {
      "name": "python3",
      "display_name": "Python 3"
    }
  },
  "cells": [
    {
      "cell_type": "code",
      "execution_count": 1,
      "metadata": {},
      "outputs": [],
      "source": [
        "import numpy as np"
      ]
    },
    {
      "cell_type": "code",
      "execution_count": 2,
      "metadata": {},
      "outputs": [],
      "source": [
        "pi = np.pi"
      ]
    },
    {
      "cell_type": "code",
      "execution_count": 3,
      "metadata": {},
      "outputs": [],
      "source": [
        "def R_z(theta):\n",
        "    theta = np.deg2rad(theta)\n",
        "    rotate_matrix = np.array([[np.cos(theta),   np.sin(theta),  0],\n",
        "                            [np.sin(theta),     np.cos(theta),  0],\n",
        "                            [0,                 0,              1]])\n",
        "    return rotate_matrix"
      ]
    },
    {
      "cell_type": "code",
      "execution_count": 5,
      "metadata": {},
      "outputs": [],
      "source": [
        "P_a = np.array([[1],[1],[0]])"
      ]
    },
    {
      "cell_type": "code",
      "execution_count": 6,
      "metadata": {},
      "outputs": [
        {
          "name": "stdout",
          "output_type": "stream",
          "text": "[[1]\n [1]\n [0]]\n"
        }
      ],
      "source": [
        "print(P_a)"
      ]
    },
    {
      "cell_type": "code",
      "execution_count": 7,
      "metadata": {},
      "outputs": [],
      "source": [
        "P_b = np.dot(R_z(np.radians(90)),P_a)"
      ]
    },
    {
      "cell_type": "code",
      "execution_count": 8,
      "metadata": {},
      "outputs": [
        {
          "name": "stdout",
          "output_type": "stream",
          "text": "[[1.02703635]\n [1.02703635]\n [0.        ]]\n"
        }
      ],
      "source": [
        "print(P_b)"
      ]
    },
    {
      "cell_type": "code",
      "execution_count": 0,
      "metadata": {
        "colab": {},
        "colab_type": "code",
        "id": "G48uApSYq-wj"
      },
      "outputs": [],
      "source": [
        ""
      ]
    },
    {
      "cell_type": "markdown",
      "metadata": {
        "colab_type": "text",
        "id": "KZYLi0Ftslle"
      },
      "source": [
        "## Translação Rotação\n"
      ]
    },
    {
      "cell_type": "markdown",
      "metadata": {
        "colab_type": "text",
        "id": "POdnjDRCrKtU"
      },
      "source": [
        "${}^B\\mathbf{P} = {}_A^B \\mathbf{R}(\\theta) {}^A\\mathbf{P} = \n",
        "\\begin{bmatrix}\n",
        "\\cos(\\theta) & \\sin(\\theta) & 0 & q_x\\\\\n",
        "\\sin(\\theta) & \\cos(\\theta) & 0 & q_y\\\\\n",
        "0 & 0 & 1 & q_z\\\\ \n",
        "0 & 0 & 0 & 1\\\\\n",
        "\\end{bmatrix}.\n",
        "\\begin{bmatrix}\n",
        "{}^Ap_x\\\\\n",
        "{}^Ap_y\\\\\n",
        "{}^Ap_z\\\\\n",
        "1\n",
        "\\end{bmatrix}$"
      ]
    },
    {
      "cell_type": "code",
      "execution_count": 17,
      "metadata": {},
      "outputs": [],
      "source": [
        "def tf(theta, Q):\n",
        "    theta = np.deg2rad(theta)\n",
        "    tf_matrix = np.array([[np.cos(theta),   np.sin(theta),  0,      Q[0]],\n",
        "                          [np.sin(theta),   np.cos(theta),  0,      Q[1]],\n",
        "                          [0,               0,              1,      Q[2]],\n",
        "                          [0,               0,              0,      1]])\n",
        "    return tf_matrix"
      ]
    },
    {
      "cell_type": "code",
      "execution_count": 11,
      "metadata": {},
      "outputs": [],
      "source": [
        "P_a = np.vstack((P_a, [1]))"
      ]
    },
    {
      "cell_type": "code",
      "execution_count": 12,
      "metadata": {},
      "outputs": [
        {
          "name": "stdout",
          "output_type": "stream",
          "text": "[[1]\n [1]\n [0]\n [1]]\n"
        }
      ],
      "source": [
        "print(P_a)"
      ]
    },
    {
      "cell_type": "code",
      "execution_count": 18,
      "metadata": {},
      "outputs": [
        {
          "data": {
            "text/plain": "array([[2.],\n       [2.],\n       [1.],\n       [1.]])"
          },
          "execution_count": 18,
          "metadata": {},
          "output_type": "execute_result"
        }
      ],
      "source": [
        "np.dot(tf(0,[1,1,1]), P_a)"
      ]
    },
    {
      "cell_type": "code",
      "execution_count": null,
      "metadata": {},
      "outputs": [],
      "source": []
    }
  ]
}