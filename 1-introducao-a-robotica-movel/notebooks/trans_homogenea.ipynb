{
 "cells": [
  {
   "cell_type": "code",
   "execution_count": 1,
   "metadata": {},
   "outputs": [],
   "source": [
    "import numpy as np"
   ]
  },
  {
   "cell_type": "markdown",
   "metadata": {},
   "source": [
    "## Operação de Rotação"
   ]
  },
  {
   "cell_type": "markdown",
   "metadata": {},
   "source": [
    "${}^A\\mathbf{P} = \\mathbf{R}(\\theta) {}^B\\mathbf{P} = \n",
    "\\begin{bmatrix}\n",
    "\\cos(\\theta) & -\\sin(\\theta) & 0 & q_x\\\\\n",
    "\\sin(\\theta) & \\cos(\\theta) & 0 & q_y\\\\\n",
    "0 & 0 & 1 & q_z\\\\ \n",
    "0 & 0 & 0 & 1\\\\\n",
    "\\end{bmatrix}.\n",
    "\\begin{bmatrix}\n",
    "{}^Bp_x\\\\\n",
    "{}^Bp_y\\\\\n",
    "{}^Bp_z\\\\\n",
    "1\n",
    "\\end{bmatrix}$"
   ]
  },
  {
   "cell_type": "code",
   "execution_count": 2,
   "metadata": {},
   "outputs": [],
   "source": [
    "def rotation_matrix(theta):\n",
    "    rotate_matrix = np.array([[np.cos(theta),   -np.sin(theta),  0.],\n",
    "                            [-np.sin(theta),     np.cos(theta),  0.],\n",
    "                            [0.,                 0.,              1.]])\n",
    "    return np.round(rotate_matrix,2)"
   ]
  },
  {
   "cell_type": "code",
   "execution_count": 3,
   "metadata": {},
   "outputs": [],
   "source": [
    "P_b = np.array([[1.],[0.],[0.]])"
   ]
  },
  {
   "cell_type": "code",
   "execution_count": 4,
   "metadata": {},
   "outputs": [
    {
     "data": {
      "text/plain": [
       "array([[ 0.94, -0.34,  0.  ],\n",
       "       [-0.34,  0.94,  0.  ],\n",
       "       [ 0.  ,  0.  ,  1.  ]])"
      ]
     },
     "execution_count": 4,
     "metadata": {},
     "output_type": "execute_result"
    }
   ],
   "source": [
    "# exemplo da matrix de rotacao em 20 graus\n",
    "rotation_matrix(np.deg2rad(20))"
   ]
  },
  {
   "cell_type": "code",
   "execution_count": 5,
   "metadata": {},
   "outputs": [
    {
     "name": "stdout",
     "output_type": "stream",
     "text": [
      "[[1.]\n",
      " [0.]\n",
      " [0.]]\n"
     ]
    }
   ],
   "source": [
    "print(P_b)"
   ]
  },
  {
   "cell_type": "code",
   "execution_count": 6,
   "metadata": {},
   "outputs": [],
   "source": [
    "P_a = np.dot(rotation_matrix(np.deg2rad(20)),P_b)"
   ]
  },
  {
   "cell_type": "code",
   "execution_count": 7,
   "metadata": {},
   "outputs": [
    {
     "name": "stdout",
     "output_type": "stream",
     "text": [
      "[[ 0.94]\n",
      " [-0.34]\n",
      " [ 0.  ]]\n"
     ]
    }
   ],
   "source": [
    "print(P_a)"
   ]
  },
  {
   "cell_type": "markdown",
   "metadata": {
    "colab_type": "text",
    "id": "KZYLi0Ftslle"
   },
   "source": [
    "## Transformação Homogenea\n"
   ]
  },
  {
   "cell_type": "markdown",
   "metadata": {
    "colab_type": "text",
    "id": "POdnjDRCrKtU"
   },
   "source": [
    "${}^A\\mathbf{P} = \\mathcal{A}_0^1 {}^B\\mathbf{P} = \n",
    "\\begin{bmatrix}\n",
    "\\cos(\\theta) & -\\sin(\\theta) & 0 & q_x\\\\\n",
    "\\sin(\\theta) & \\cos(\\theta) & 0 & q_y\\\\\n",
    "0 & 0 & 1 & q_z\\\\ \n",
    "0 & 0 & 0 & 1\\\\\n",
    "\\end{bmatrix}.\n",
    "\\begin{bmatrix}\n",
    "{}^Bp_x\\\\\n",
    "{}^Bp_y\\\\\n",
    "{}^Bp_z\\\\\n",
    "1\n",
    "\\end{bmatrix}$"
   ]
  },
  {
   "cell_type": "code",
   "execution_count": 8,
   "metadata": {},
   "outputs": [],
   "source": [
    "def th(theta, Q):\n",
    "    th_matrix = np.array([[np.cos(theta),   -np.sin(theta), 0.,      Q[0]],\n",
    "                          [np.sin(theta),   np.cos(theta),  0.,      Q[1]],\n",
    "                          [0.,        0.,                   1.,      Q[2]],\n",
    "                          [0.,        0.,                   0.,      1.]])\n",
    "    return th_matrix"
   ]
  },
  {
   "cell_type": "code",
   "execution_count": 9,
   "metadata": {},
   "outputs": [],
   "source": [
    "P_b = np.array([[1.],[0.],[0.]])\n",
    "P_a = np.zeros((4,1))"
   ]
  },
  {
   "cell_type": "code",
   "execution_count": 10,
   "metadata": {},
   "outputs": [],
   "source": [
    "P_b = np.vstack((P_b, [1]))"
   ]
  },
  {
   "cell_type": "code",
   "execution_count": 11,
   "metadata": {},
   "outputs": [
    {
     "name": "stdout",
     "output_type": "stream",
     "text": [
      "[[1.]\n",
      " [0.]\n",
      " [0.]\n",
      " [1.]]\n"
     ]
    }
   ],
   "source": [
    "print(P_b)"
   ]
  },
  {
   "cell_type": "code",
   "execution_count": 12,
   "metadata": {},
   "outputs": [],
   "source": [
    "Q_a = np.array([3.,2.,1.])"
   ]
  },
  {
   "cell_type": "code",
   "execution_count": 13,
   "metadata": {},
   "outputs": [],
   "source": [
    "P_a = np.dot(th(np.deg2rad(20),Q_a), P_b)"
   ]
  },
  {
   "cell_type": "code",
   "execution_count": 14,
   "metadata": {},
   "outputs": [
    {
     "name": "stdout",
     "output_type": "stream",
     "text": [
      "[[3.93969262]\n",
      " [2.34202014]\n",
      " [1.        ]\n",
      " [1.        ]]\n"
     ]
    }
   ],
   "source": [
    "print(P_a)"
   ]
  },
  {
   "cell_type": "code",
   "execution_count": null,
   "metadata": {},
   "outputs": [],
   "source": []
  },
  {
   "cell_type": "code",
   "execution_count": null,
   "metadata": {},
   "outputs": [],
   "source": []
  },
  {
   "cell_type": "code",
   "execution_count": null,
   "metadata": {},
   "outputs": [],
   "source": []
  },
  {
   "cell_type": "code",
   "execution_count": null,
   "metadata": {},
   "outputs": [],
   "source": []
  },
  {
   "cell_type": "code",
   "execution_count": null,
   "metadata": {},
   "outputs": [],
   "source": []
  }
 ],
 "metadata": {
  "colab": {
   "collapsed_sections": [],
   "name": "exercicio01.ipynb",
   "provenance": []
  },
  "kernelspec": {
   "display_name": "Python 3",
   "language": "python",
   "name": "python3"
  },
  "language_info": {
   "codemirror_mode": {
    "name": "ipython",
    "version": 3
   },
   "file_extension": ".py",
   "mimetype": "text/x-python",
   "name": "python",
   "nbconvert_exporter": "python",
   "pygments_lexer": "ipython3",
   "version": "3.6.9"
  }
 },
 "nbformat": 4,
 "nbformat_minor": 1
}
